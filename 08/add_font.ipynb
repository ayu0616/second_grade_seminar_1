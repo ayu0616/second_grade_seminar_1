{
 "cells": [
  {
   "cell_type": "code",
   "execution_count": 10,
   "metadata": {
    "vscode": {
     "languageId": "r"
    }
   },
   "outputs": [
    {
     "data": {
      "text/html": [
       "<dl>\n",
       "\t<dt>$serif</dt>\n",
       "\t\t<dd><style>\n",
       ".list-inline {list-style: none; margin:0; padding: 0}\n",
       ".list-inline>li {display: inline-block}\n",
       ".list-inline>li:not(:last-child)::after {content: \"\\00b7\"; padding: 0 .5ex}\n",
       "</style>\n",
       "<ol class=list-inline><li>'Times-Roman'</li><li>'Times-Bold'</li><li>'Times-Italic'</li><li>'Times-BoldItalic'</li></ol>\n",
       "</dd>\n",
       "\t<dt>$sans</dt>\n",
       "\t\t<dd><style>\n",
       ".list-inline {list-style: none; margin:0; padding: 0}\n",
       ".list-inline>li {display: inline-block}\n",
       ".list-inline>li:not(:last-child)::after {content: \"\\00b7\"; padding: 0 .5ex}\n",
       "</style>\n",
       "<ol class=list-inline><li>'Helvetica'</li><li>'Helvetica-Bold'</li><li>'Helvetica-Oblique'</li><li>'Helvetica-BoldOblique'</li></ol>\n",
       "</dd>\n",
       "\t<dt>$mono</dt>\n",
       "\t\t<dd><style>\n",
       ".list-inline {list-style: none; margin:0; padding: 0}\n",
       ".list-inline>li {display: inline-block}\n",
       ".list-inline>li:not(:last-child)::after {content: \"\\00b7\"; padding: 0 .5ex}\n",
       "</style>\n",
       "<ol class=list-inline><li>'Courier'</li><li>'Courier-Bold'</li><li>'Courier-Oblique'</li><li>'Courier-BoldOblique'</li></ol>\n",
       "</dd>\n",
       "</dl>\n"
      ],
      "text/latex": [
       "\\begin{description}\n",
       "\\item[\\$serif] \\begin{enumerate*}\n",
       "\\item 'Times-Roman'\n",
       "\\item 'Times-Bold'\n",
       "\\item 'Times-Italic'\n",
       "\\item 'Times-BoldItalic'\n",
       "\\end{enumerate*}\n",
       "\n",
       "\\item[\\$sans] \\begin{enumerate*}\n",
       "\\item 'Helvetica'\n",
       "\\item 'Helvetica-Bold'\n",
       "\\item 'Helvetica-Oblique'\n",
       "\\item 'Helvetica-BoldOblique'\n",
       "\\end{enumerate*}\n",
       "\n",
       "\\item[\\$mono] \\begin{enumerate*}\n",
       "\\item 'Courier'\n",
       "\\item 'Courier-Bold'\n",
       "\\item 'Courier-Oblique'\n",
       "\\item 'Courier-BoldOblique'\n",
       "\\end{enumerate*}\n",
       "\n",
       "\\end{description}\n"
      ],
      "text/markdown": [
       "$serif\n",
       ":   1. 'Times-Roman'\n",
       "2. 'Times-Bold'\n",
       "3. 'Times-Italic'\n",
       "4. 'Times-BoldItalic'\n",
       "\n",
       "\n",
       "\n",
       "$sans\n",
       ":   1. 'Helvetica'\n",
       "2. 'Helvetica-Bold'\n",
       "3. 'Helvetica-Oblique'\n",
       "4. 'Helvetica-BoldOblique'\n",
       "\n",
       "\n",
       "\n",
       "$mono\n",
       ":   1. 'Courier'\n",
       "2. 'Courier-Bold'\n",
       "3. 'Courier-Oblique'\n",
       "4. 'Courier-BoldOblique'\n",
       "\n",
       "\n",
       "\n",
       "\n",
       "\n"
      ],
      "text/plain": [
       "$serif\n",
       "[1] \"Times-Roman\"      \"Times-Bold\"       \"Times-Italic\"     \"Times-BoldItalic\"\n",
       "\n",
       "$sans\n",
       "[1] \"Helvetica\"             \"Helvetica-Bold\"        \"Helvetica-Oblique\"    \n",
       "[4] \"Helvetica-BoldOblique\"\n",
       "\n",
       "$mono\n",
       "[1] \"Courier\"             \"Courier-Bold\"        \"Courier-Oblique\"    \n",
       "[4] \"Courier-BoldOblique\"\n"
      ]
     },
     "metadata": {},
     "output_type": "display_data"
    }
   ],
   "source": [
    "quartzFonts()"
   ]
  },
  {
   "cell_type": "code",
   "execution_count": 2,
   "metadata": {
    "vscode": {
     "languageId": "r"
    }
   },
   "outputs": [
    {
     "name": "stdout",
     "output_type": "stream",
     "text": [
      "quartzFonts             package:grDevices              R Documentation\n",
      "\n",
      "_\bQ_\bu_\ba_\br_\bt_\bz _\bF_\bo_\bn_\bt_\bs _\bS_\be_\bt_\bu_\bp\n",
      "\n",
      "_\bD_\be_\bs_\bc_\br_\bi_\bp_\bt_\bi_\bo_\bn:\n",
      "\n",
      "     These functions handle the translation of a device-independent R\n",
      "     graphics font family name to a ‘quartz’ font description.\n",
      "\n",
      "     They are only available on Unix-alikes, i.e, not on Windows, and\n",
      "     typically used on the Mac.\n",
      "\n",
      "_\bU_\bs_\ba_\bg_\be:\n",
      "\n",
      "     quartzFont(family)\n",
      "     \n",
      "     quartzFonts(...)\n",
      "     \n",
      "_\bA_\br_\bg_\bu_\bm_\be_\bn_\bt_\bs:\n",
      "\n",
      "  family: a character vector containing the four PostScript font names\n",
      "          for plain, bold, italic, and bolditalic versions of a font\n",
      "          family.\n",
      "\n",
      "     ...: either character strings naming mappings to display, or new\n",
      "          (named) mappings to define.\n",
      "\n",
      "_\bD_\be_\bt_\ba_\bi_\bl_\bs:\n",
      "\n",
      "     A quartz device is created with a default font (see the\n",
      "     documentation for ‘quartz’), but it is also possible to specify a\n",
      "     font family when drawing to the device (for example, see the\n",
      "     documentation for ‘gpar’ in the ‘grid’ package).\n",
      "\n",
      "     The font family sent to the device is a simple string name, which\n",
      "     must be mapped to something more specific to quartz fonts.  A list\n",
      "     of mappings is maintained and can be modified by the user.\n",
      "\n",
      "     The ‘quartzFonts’ function can be used to list existing mappings\n",
      "     and to define new mappings.  The ‘quartzFont’ function can be used\n",
      "     to create a new mapping.\n",
      "\n",
      "     Default mappings are provided for three device-independent font\n",
      "     family names: ‘\"sans\"’ for a sans-serif font, ‘\"serif\"’ for a\n",
      "     serif font and ‘\"mono\"’ for a monospaced font.\n",
      "\n",
      "_\bS_\be_\be _\bA_\bl_\bs_\bo:\n",
      "\n",
      "     ‘quartz’ for the default Mac graphics device.\n",
      "\n",
      "_\bE_\bx_\ba_\bm_\bp_\bl_\be_\bs:\n",
      "\n",
      "     if(.Platform$OS.type == \"unix\") { # includes Mac\n",
      "     \n",
      "      utils::str( quartzFonts() ) # a list(serif = .., sans = .., mono = ..)\n",
      "      quartzFonts(\"mono\") # the list(mono = ..) sublist of quartzFonts()\n",
      "     ## Not run:\n",
      "     \n",
      "       ## for East Asian locales you can use something like\n",
      "       quartzFonts(sans = quartzFont(rep(\"AppleGothic\", 4)),\n",
      "                   serif = quartzFont(rep(\"AppleMyungjp\", 4)))\n",
      "       ## since the default fonts may well not have the glyphs needed\n",
      "     ## End(Not run)\n",
      "     \n",
      "     }\n",
      "     "
     ]
    }
   ],
   "source": [
    "help(quartzFonts)"
   ]
  },
  {
   "cell_type": "code",
   "execution_count": null,
   "metadata": {
    "vscode": {
     "languageId": "r"
    }
   },
   "outputs": [],
   "source": []
  }
 ],
 "metadata": {
  "kernelspec": {
   "display_name": "R",
   "language": "R",
   "name": "ir"
  },
  "language_info": {
   "codemirror_mode": "r",
   "file_extension": ".r",
   "mimetype": "text/x-r-source",
   "name": "R",
   "pygments_lexer": "r",
   "version": "4.1.3"
  },
  "orig_nbformat": 4
 },
 "nbformat": 4,
 "nbformat_minor": 2
}
