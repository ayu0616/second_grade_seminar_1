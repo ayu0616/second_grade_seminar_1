{
 "cells": [
  {
   "cell_type": "code",
   "execution_count": 3,
   "metadata": {
    "vscode": {
     "languageId": "r"
    }
   },
   "outputs": [
    {
     "data": {
      "text/html": [
       "<table class=\"dataframe\">\n",
       "<caption>A data.frame: 33 × 4</caption>\n",
       "<thead>\n",
       "\t<tr><th scope=col>学生</th><th scope=col>数学</th><th scope=col>英語</th><th scope=col>身長</th></tr>\n",
       "\t<tr><th scope=col>&lt;chr&gt;</th><th scope=col>&lt;int&gt;</th><th scope=col>&lt;int&gt;</th><th scope=col>&lt;int&gt;</th></tr>\n",
       "</thead>\n",
       "<tbody>\n",
       "\t<tr><td>A高校</td><td>31</td><td>56</td><td>169</td></tr>\n",
       "\t<tr><td>A高校</td><td>28</td><td>48</td><td>182</td></tr>\n",
       "\t<tr><td>A高校</td><td>28</td><td>30</td><td>176</td></tr>\n",
       "\t<tr><td>A高校</td><td>67</td><td>84</td><td>161</td></tr>\n",
       "\t<tr><td>A高校</td><td>57</td><td>69</td><td>155</td></tr>\n",
       "\t<tr><td>A高校</td><td>60</td><td>93</td><td>181</td></tr>\n",
       "\t<tr><td>A高校</td><td>33</td><td>41</td><td>175</td></tr>\n",
       "\t<tr><td>A高校</td><td>33</td><td>37</td><td>171</td></tr>\n",
       "\t<tr><td>A高校</td><td>65</td><td>77</td><td>171</td></tr>\n",
       "\t<tr><td>A高校</td><td>61</td><td>61</td><td>165</td></tr>\n",
       "\t<tr><td>A高校</td><td>29</td><td>34</td><td>166</td></tr>\n",
       "\t<tr><td>A高校</td><td>38</td><td>38</td><td>153</td></tr>\n",
       "\t<tr><td>A高校</td><td>44</td><td>53</td><td>150</td></tr>\n",
       "\t<tr><td>A高校</td><td>70</td><td>70</td><td>152</td></tr>\n",
       "\t<tr><td>A高校</td><td>50</td><td>56</td><td>177</td></tr>\n",
       "\t<tr><td>B高校</td><td>58</td><td>73</td><td>174</td></tr>\n",
       "\t<tr><td>B高校</td><td>91</td><td>90</td><td>159</td></tr>\n",
       "\t<tr><td>B高校</td><td>86</td><td>93</td><td>183</td></tr>\n",
       "\t<tr><td>B高校</td><td>57</td><td>58</td><td>178</td></tr>\n",
       "\t<tr><td>B高校</td><td>87</td><td>87</td><td>174</td></tr>\n",
       "\t<tr><td>B高校</td><td>83</td><td>79</td><td>172</td></tr>\n",
       "\t<tr><td>B高校</td><td>72</td><td>73</td><td>160</td></tr>\n",
       "\t<tr><td>B高校</td><td>59</td><td>58</td><td>180</td></tr>\n",
       "\t<tr><td>B高校</td><td>88</td><td>95</td><td>165</td></tr>\n",
       "\t<tr><td>B高校</td><td>43</td><td>56</td><td>152</td></tr>\n",
       "\t<tr><td>B高校</td><td>85</td><td>92</td><td>147</td></tr>\n",
       "\t<tr><td>B高校</td><td>70</td><td>72</td><td>174</td></tr>\n",
       "\t<tr><td>B高校</td><td>33</td><td>40</td><td>174</td></tr>\n",
       "\t<tr><td>B高校</td><td>37</td><td>51</td><td>167</td></tr>\n",
       "\t<tr><td>B高校</td><td>35</td><td>36</td><td>176</td></tr>\n",
       "\t<tr><td>B高校</td><td>72</td><td>72</td><td>155</td></tr>\n",
       "\t<tr><td>B高校</td><td>33</td><td>42</td><td>157</td></tr>\n",
       "\t<tr><td>B高校</td><td>92</td><td>95</td><td>174</td></tr>\n",
       "</tbody>\n",
       "</table>\n"
      ],
      "text/latex": [
       "A data.frame: 33 × 4\n",
       "\\begin{tabular}{llll}\n",
       " 学生 & 数学 & 英語 & 身長\\\\\n",
       " <chr> & <int> & <int> & <int>\\\\\n",
       "\\hline\n",
       "\t A高校 & 31 & 56 & 169\\\\\n",
       "\t A高校 & 28 & 48 & 182\\\\\n",
       "\t A高校 & 28 & 30 & 176\\\\\n",
       "\t A高校 & 67 & 84 & 161\\\\\n",
       "\t A高校 & 57 & 69 & 155\\\\\n",
       "\t A高校 & 60 & 93 & 181\\\\\n",
       "\t A高校 & 33 & 41 & 175\\\\\n",
       "\t A高校 & 33 & 37 & 171\\\\\n",
       "\t A高校 & 65 & 77 & 171\\\\\n",
       "\t A高校 & 61 & 61 & 165\\\\\n",
       "\t A高校 & 29 & 34 & 166\\\\\n",
       "\t A高校 & 38 & 38 & 153\\\\\n",
       "\t A高校 & 44 & 53 & 150\\\\\n",
       "\t A高校 & 70 & 70 & 152\\\\\n",
       "\t A高校 & 50 & 56 & 177\\\\\n",
       "\t B高校 & 58 & 73 & 174\\\\\n",
       "\t B高校 & 91 & 90 & 159\\\\\n",
       "\t B高校 & 86 & 93 & 183\\\\\n",
       "\t B高校 & 57 & 58 & 178\\\\\n",
       "\t B高校 & 87 & 87 & 174\\\\\n",
       "\t B高校 & 83 & 79 & 172\\\\\n",
       "\t B高校 & 72 & 73 & 160\\\\\n",
       "\t B高校 & 59 & 58 & 180\\\\\n",
       "\t B高校 & 88 & 95 & 165\\\\\n",
       "\t B高校 & 43 & 56 & 152\\\\\n",
       "\t B高校 & 85 & 92 & 147\\\\\n",
       "\t B高校 & 70 & 72 & 174\\\\\n",
       "\t B高校 & 33 & 40 & 174\\\\\n",
       "\t B高校 & 37 & 51 & 167\\\\\n",
       "\t B高校 & 35 & 36 & 176\\\\\n",
       "\t B高校 & 72 & 72 & 155\\\\\n",
       "\t B高校 & 33 & 42 & 157\\\\\n",
       "\t B高校 & 92 & 95 & 174\\\\\n",
       "\\end{tabular}\n"
      ],
      "text/markdown": [
       "\n",
       "A data.frame: 33 × 4\n",
       "\n",
       "| 学生 &lt;chr&gt; | 数学 &lt;int&gt; | 英語 &lt;int&gt; | 身長 &lt;int&gt; |\n",
       "|---|---|---|---|\n",
       "| A高校 | 31 | 56 | 169 |\n",
       "| A高校 | 28 | 48 | 182 |\n",
       "| A高校 | 28 | 30 | 176 |\n",
       "| A高校 | 67 | 84 | 161 |\n",
       "| A高校 | 57 | 69 | 155 |\n",
       "| A高校 | 60 | 93 | 181 |\n",
       "| A高校 | 33 | 41 | 175 |\n",
       "| A高校 | 33 | 37 | 171 |\n",
       "| A高校 | 65 | 77 | 171 |\n",
       "| A高校 | 61 | 61 | 165 |\n",
       "| A高校 | 29 | 34 | 166 |\n",
       "| A高校 | 38 | 38 | 153 |\n",
       "| A高校 | 44 | 53 | 150 |\n",
       "| A高校 | 70 | 70 | 152 |\n",
       "| A高校 | 50 | 56 | 177 |\n",
       "| B高校 | 58 | 73 | 174 |\n",
       "| B高校 | 91 | 90 | 159 |\n",
       "| B高校 | 86 | 93 | 183 |\n",
       "| B高校 | 57 | 58 | 178 |\n",
       "| B高校 | 87 | 87 | 174 |\n",
       "| B高校 | 83 | 79 | 172 |\n",
       "| B高校 | 72 | 73 | 160 |\n",
       "| B高校 | 59 | 58 | 180 |\n",
       "| B高校 | 88 | 95 | 165 |\n",
       "| B高校 | 43 | 56 | 152 |\n",
       "| B高校 | 85 | 92 | 147 |\n",
       "| B高校 | 70 | 72 | 174 |\n",
       "| B高校 | 33 | 40 | 174 |\n",
       "| B高校 | 37 | 51 | 167 |\n",
       "| B高校 | 35 | 36 | 176 |\n",
       "| B高校 | 72 | 72 | 155 |\n",
       "| B高校 | 33 | 42 | 157 |\n",
       "| B高校 | 92 | 95 | 174 |\n",
       "\n"
      ],
      "text/plain": [
       "   学生  数学 英語 身長\n",
       "1  A高校 31   56   169 \n",
       "2  A高校 28   48   182 \n",
       "3  A高校 28   30   176 \n",
       "4  A高校 67   84   161 \n",
       "5  A高校 57   69   155 \n",
       "6  A高校 60   93   181 \n",
       "7  A高校 33   41   175 \n",
       "8  A高校 33   37   171 \n",
       "9  A高校 65   77   171 \n",
       "10 A高校 61   61   165 \n",
       "11 A高校 29   34   166 \n",
       "12 A高校 38   38   153 \n",
       "13 A高校 44   53   150 \n",
       "14 A高校 70   70   152 \n",
       "15 A高校 50   56   177 \n",
       "16 B高校 58   73   174 \n",
       "17 B高校 91   90   159 \n",
       "18 B高校 86   93   183 \n",
       "19 B高校 57   58   178 \n",
       "20 B高校 87   87   174 \n",
       "21 B高校 83   79   172 \n",
       "22 B高校 72   73   160 \n",
       "23 B高校 59   58   180 \n",
       "24 B高校 88   95   165 \n",
       "25 B高校 43   56   152 \n",
       "26 B高校 85   92   147 \n",
       "27 B高校 70   72   174 \n",
       "28 B高校 33   40   174 \n",
       "29 B高校 37   51   167 \n",
       "30 B高校 35   36   176 \n",
       "31 B高校 72   72   155 \n",
       "32 B高校 33   42   157 \n",
       "33 B高校 92   95   174 "
      ]
     },
     "metadata": {},
     "output_type": "display_data"
    }
   ],
   "source": [
    "(data1 = read.table(\"./Rsample1.csv\", sep = \",\", header = TRUE))"
   ]
  },
  {
   "cell_type": "code",
   "execution_count": 55,
   "metadata": {
    "vscode": {
     "languageId": "r"
    }
   },
   "outputs": [
    {
     "data": {
      "text/html": [
       "<table class=\"dataframe\">\n",
       "<caption>A data.frame: 33 × 4</caption>\n",
       "<thead>\n",
       "\t<tr><th scope=col>学生</th><th scope=col>数学</th><th scope=col>英語</th><th scope=col>身長</th></tr>\n",
       "\t<tr><th scope=col>&lt;chr&gt;</th><th scope=col>&lt;int&gt;</th><th scope=col>&lt;int&gt;</th><th scope=col>&lt;int&gt;</th></tr>\n",
       "</thead>\n",
       "<tbody>\n",
       "\t<tr><td>A高校</td><td>31</td><td>56</td><td>169</td></tr>\n",
       "\t<tr><td>A高校</td><td>28</td><td>48</td><td>182</td></tr>\n",
       "\t<tr><td>A高校</td><td>28</td><td>30</td><td>176</td></tr>\n",
       "\t<tr><td>A高校</td><td>67</td><td>84</td><td>161</td></tr>\n",
       "\t<tr><td>A高校</td><td>57</td><td>69</td><td>155</td></tr>\n",
       "\t<tr><td>A高校</td><td>60</td><td>93</td><td>181</td></tr>\n",
       "\t<tr><td>A高校</td><td>33</td><td>41</td><td>175</td></tr>\n",
       "\t<tr><td>A高校</td><td>33</td><td>37</td><td>171</td></tr>\n",
       "\t<tr><td>A高校</td><td>65</td><td>77</td><td>171</td></tr>\n",
       "\t<tr><td>A高校</td><td>61</td><td>61</td><td>165</td></tr>\n",
       "\t<tr><td>A高校</td><td>29</td><td>34</td><td>166</td></tr>\n",
       "\t<tr><td>A高校</td><td>38</td><td>38</td><td>153</td></tr>\n",
       "\t<tr><td>A高校</td><td>44</td><td>53</td><td>150</td></tr>\n",
       "\t<tr><td>A高校</td><td>70</td><td>70</td><td>152</td></tr>\n",
       "\t<tr><td>A高校</td><td>50</td><td>56</td><td>177</td></tr>\n",
       "\t<tr><td>B高校</td><td>58</td><td>73</td><td>174</td></tr>\n",
       "\t<tr><td>B高校</td><td>91</td><td>90</td><td>159</td></tr>\n",
       "\t<tr><td>B高校</td><td>86</td><td>93</td><td>183</td></tr>\n",
       "\t<tr><td>B高校</td><td>57</td><td>58</td><td>178</td></tr>\n",
       "\t<tr><td>B高校</td><td>87</td><td>87</td><td>174</td></tr>\n",
       "\t<tr><td>B高校</td><td>83</td><td>79</td><td>172</td></tr>\n",
       "\t<tr><td>B高校</td><td>72</td><td>73</td><td>160</td></tr>\n",
       "\t<tr><td>B高校</td><td>59</td><td>58</td><td>180</td></tr>\n",
       "\t<tr><td>B高校</td><td>88</td><td>95</td><td>165</td></tr>\n",
       "\t<tr><td>B高校</td><td>43</td><td>56</td><td>152</td></tr>\n",
       "\t<tr><td>B高校</td><td>85</td><td>92</td><td>147</td></tr>\n",
       "\t<tr><td>B高校</td><td>70</td><td>72</td><td>174</td></tr>\n",
       "\t<tr><td>B高校</td><td>33</td><td>40</td><td>174</td></tr>\n",
       "\t<tr><td>B高校</td><td>37</td><td>51</td><td>167</td></tr>\n",
       "\t<tr><td>B高校</td><td>35</td><td>36</td><td>176</td></tr>\n",
       "\t<tr><td>B高校</td><td>72</td><td>72</td><td>155</td></tr>\n",
       "\t<tr><td>B高校</td><td>33</td><td>42</td><td>157</td></tr>\n",
       "\t<tr><td>B高校</td><td>92</td><td>95</td><td>174</td></tr>\n",
       "</tbody>\n",
       "</table>\n"
      ],
      "text/latex": [
       "A data.frame: 33 × 4\n",
       "\\begin{tabular}{llll}\n",
       " 学生 & 数学 & 英語 & 身長\\\\\n",
       " <chr> & <int> & <int> & <int>\\\\\n",
       "\\hline\n",
       "\t A高校 & 31 & 56 & 169\\\\\n",
       "\t A高校 & 28 & 48 & 182\\\\\n",
       "\t A高校 & 28 & 30 & 176\\\\\n",
       "\t A高校 & 67 & 84 & 161\\\\\n",
       "\t A高校 & 57 & 69 & 155\\\\\n",
       "\t A高校 & 60 & 93 & 181\\\\\n",
       "\t A高校 & 33 & 41 & 175\\\\\n",
       "\t A高校 & 33 & 37 & 171\\\\\n",
       "\t A高校 & 65 & 77 & 171\\\\\n",
       "\t A高校 & 61 & 61 & 165\\\\\n",
       "\t A高校 & 29 & 34 & 166\\\\\n",
       "\t A高校 & 38 & 38 & 153\\\\\n",
       "\t A高校 & 44 & 53 & 150\\\\\n",
       "\t A高校 & 70 & 70 & 152\\\\\n",
       "\t A高校 & 50 & 56 & 177\\\\\n",
       "\t B高校 & 58 & 73 & 174\\\\\n",
       "\t B高校 & 91 & 90 & 159\\\\\n",
       "\t B高校 & 86 & 93 & 183\\\\\n",
       "\t B高校 & 57 & 58 & 178\\\\\n",
       "\t B高校 & 87 & 87 & 174\\\\\n",
       "\t B高校 & 83 & 79 & 172\\\\\n",
       "\t B高校 & 72 & 73 & 160\\\\\n",
       "\t B高校 & 59 & 58 & 180\\\\\n",
       "\t B高校 & 88 & 95 & 165\\\\\n",
       "\t B高校 & 43 & 56 & 152\\\\\n",
       "\t B高校 & 85 & 92 & 147\\\\\n",
       "\t B高校 & 70 & 72 & 174\\\\\n",
       "\t B高校 & 33 & 40 & 174\\\\\n",
       "\t B高校 & 37 & 51 & 167\\\\\n",
       "\t B高校 & 35 & 36 & 176\\\\\n",
       "\t B高校 & 72 & 72 & 155\\\\\n",
       "\t B高校 & 33 & 42 & 157\\\\\n",
       "\t B高校 & 92 & 95 & 174\\\\\n",
       "\\end{tabular}\n"
      ],
      "text/markdown": [
       "\n",
       "A data.frame: 33 × 4\n",
       "\n",
       "| 学生 &lt;chr&gt; | 数学 &lt;int&gt; | 英語 &lt;int&gt; | 身長 &lt;int&gt; |\n",
       "|---|---|---|---|\n",
       "| A高校 | 31 | 56 | 169 |\n",
       "| A高校 | 28 | 48 | 182 |\n",
       "| A高校 | 28 | 30 | 176 |\n",
       "| A高校 | 67 | 84 | 161 |\n",
       "| A高校 | 57 | 69 | 155 |\n",
       "| A高校 | 60 | 93 | 181 |\n",
       "| A高校 | 33 | 41 | 175 |\n",
       "| A高校 | 33 | 37 | 171 |\n",
       "| A高校 | 65 | 77 | 171 |\n",
       "| A高校 | 61 | 61 | 165 |\n",
       "| A高校 | 29 | 34 | 166 |\n",
       "| A高校 | 38 | 38 | 153 |\n",
       "| A高校 | 44 | 53 | 150 |\n",
       "| A高校 | 70 | 70 | 152 |\n",
       "| A高校 | 50 | 56 | 177 |\n",
       "| B高校 | 58 | 73 | 174 |\n",
       "| B高校 | 91 | 90 | 159 |\n",
       "| B高校 | 86 | 93 | 183 |\n",
       "| B高校 | 57 | 58 | 178 |\n",
       "| B高校 | 87 | 87 | 174 |\n",
       "| B高校 | 83 | 79 | 172 |\n",
       "| B高校 | 72 | 73 | 160 |\n",
       "| B高校 | 59 | 58 | 180 |\n",
       "| B高校 | 88 | 95 | 165 |\n",
       "| B高校 | 43 | 56 | 152 |\n",
       "| B高校 | 85 | 92 | 147 |\n",
       "| B高校 | 70 | 72 | 174 |\n",
       "| B高校 | 33 | 40 | 174 |\n",
       "| B高校 | 37 | 51 | 167 |\n",
       "| B高校 | 35 | 36 | 176 |\n",
       "| B高校 | 72 | 72 | 155 |\n",
       "| B高校 | 33 | 42 | 157 |\n",
       "| B高校 | 92 | 95 | 174 |\n",
       "\n"
      ],
      "text/plain": [
       "   学生  数学 英語 身長\n",
       "1  A高校 31   56   169 \n",
       "2  A高校 28   48   182 \n",
       "3  A高校 28   30   176 \n",
       "4  A高校 67   84   161 \n",
       "5  A高校 57   69   155 \n",
       "6  A高校 60   93   181 \n",
       "7  A高校 33   41   175 \n",
       "8  A高校 33   37   171 \n",
       "9  A高校 65   77   171 \n",
       "10 A高校 61   61   165 \n",
       "11 A高校 29   34   166 \n",
       "12 A高校 38   38   153 \n",
       "13 A高校 44   53   150 \n",
       "14 A高校 70   70   152 \n",
       "15 A高校 50   56   177 \n",
       "16 B高校 58   73   174 \n",
       "17 B高校 91   90   159 \n",
       "18 B高校 86   93   183 \n",
       "19 B高校 57   58   178 \n",
       "20 B高校 87   87   174 \n",
       "21 B高校 83   79   172 \n",
       "22 B高校 72   73   160 \n",
       "23 B高校 59   58   180 \n",
       "24 B高校 88   95   165 \n",
       "25 B高校 43   56   152 \n",
       "26 B高校 85   92   147 \n",
       "27 B高校 70   72   174 \n",
       "28 B高校 33   40   174 \n",
       "29 B高校 37   51   167 \n",
       "30 B高校 35   36   176 \n",
       "31 B高校 72   72   155 \n",
       "32 B高校 33   42   157 \n",
       "33 B高校 92   95   174 "
      ]
     },
     "metadata": {},
     "output_type": "display_data"
    }
   ],
   "source": [
    "(data1 = read.csv(\"./Rsample1.csv\"))"
   ]
  },
  {
   "cell_type": "code",
   "execution_count": 58,
   "metadata": {
    "vscode": {
     "languageId": "r"
    }
   },
   "outputs": [],
   "source": [
    "write.csv(data1, \"./out.csv\")"
   ]
  },
  {
   "cell_type": "code",
   "execution_count": 60,
   "metadata": {
    "vscode": {
     "languageId": "r"
    }
   },
   "outputs": [
    {
     "data": {
      "text/html": [
       "<style>\n",
       ".list-inline {list-style: none; margin:0; padding: 0}\n",
       ".list-inline>li {display: inline-block}\n",
       ".list-inline>li:not(:last-child)::after {content: \"\\00b7\"; padding: 0 .5ex}\n",
       "</style>\n",
       "<ol class=list-inline><li>2</li><li>3</li><li>4</li></ol>\n"
      ],
      "text/latex": [
       "\\begin{enumerate*}\n",
       "\\item 2\n",
       "\\item 3\n",
       "\\item 4\n",
       "\\end{enumerate*}\n"
      ],
      "text/markdown": [
       "1. 2\n",
       "2. 3\n",
       "3. 4\n",
       "\n",
       "\n"
      ],
      "text/plain": [
       "[1] 2 3 4"
      ]
     },
     "metadata": {},
     "output_type": "display_data"
    }
   ],
   "source": [
    "y = c(1, 2, 3)\n",
    "y + 1"
   ]
  },
  {
   "cell_type": "code",
   "execution_count": 61,
   "metadata": {
    "vscode": {
     "languageId": "r"
    }
   },
   "outputs": [
    {
     "data": {
      "text/html": [
       "<style>\n",
       ".list-inline {list-style: none; margin:0; padding: 0}\n",
       ".list-inline>li {display: inline-block}\n",
       ".list-inline>li:not(:last-child)::after {content: \"\\00b7\"; padding: 0 .5ex}\n",
       "</style>\n",
       "<ol class=list-inline><li>3</li><li>6</li><li>9</li></ol>\n"
      ],
      "text/latex": [
       "\\begin{enumerate*}\n",
       "\\item 3\n",
       "\\item 6\n",
       "\\item 9\n",
       "\\end{enumerate*}\n"
      ],
      "text/markdown": [
       "1. 3\n",
       "2. 6\n",
       "3. 9\n",
       "\n",
       "\n"
      ],
      "text/plain": [
       "[1] 3 6 9"
      ]
     },
     "metadata": {},
     "output_type": "display_data"
    }
   ],
   "source": [
    "y * 3"
   ]
  },
  {
   "cell_type": "code",
   "execution_count": 62,
   "metadata": {
    "vscode": {
     "languageId": "r"
    }
   },
   "outputs": [],
   "source": [
    "z = c(2, 4, 8)"
   ]
  },
  {
   "cell_type": "code",
   "execution_count": 63,
   "metadata": {
    "vscode": {
     "languageId": "r"
    }
   },
   "outputs": [
    {
     "data": {
      "text/html": [
       "<style>\n",
       ".list-inline {list-style: none; margin:0; padding: 0}\n",
       ".list-inline>li {display: inline-block}\n",
       ".list-inline>li:not(:last-child)::after {content: \"\\00b7\"; padding: 0 .5ex}\n",
       "</style>\n",
       "<ol class=list-inline><li>3</li><li>6</li><li>11</li></ol>\n"
      ],
      "text/latex": [
       "\\begin{enumerate*}\n",
       "\\item 3\n",
       "\\item 6\n",
       "\\item 11\n",
       "\\end{enumerate*}\n"
      ],
      "text/markdown": [
       "1. 3\n",
       "2. 6\n",
       "3. 11\n",
       "\n",
       "\n"
      ],
      "text/plain": [
       "[1]  3  6 11"
      ]
     },
     "metadata": {},
     "output_type": "display_data"
    }
   ],
   "source": [
    "y + z"
   ]
  },
  {
   "cell_type": "code",
   "execution_count": 69,
   "metadata": {
    "vscode": {
     "languageId": "r"
    }
   },
   "outputs": [
    {
     "data": {
      "text/html": [
       "16"
      ],
      "text/latex": [
       "16"
      ],
      "text/markdown": [
       "16"
      ],
      "text/plain": [
       "[1] 16"
      ]
     },
     "metadata": {},
     "output_type": "display_data"
    }
   ],
   "source": [
    "2 ^ 4"
   ]
  },
  {
   "cell_type": "code",
   "execution_count": 74,
   "metadata": {
    "vscode": {
     "languageId": "r"
    }
   },
   "outputs": [
    {
     "data": {
      "text/html": [
       "11"
      ],
      "text/latex": [
       "11"
      ],
      "text/markdown": [
       "11"
      ],
      "text/plain": [
       "[1] 11"
      ]
     },
     "metadata": {},
     "output_type": "display_data"
    }
   ],
   "source": [
    "round(10.500001)"
   ]
  },
  {
   "cell_type": "code",
   "execution_count": 75,
   "metadata": {
    "vscode": {
     "languageId": "r"
    }
   },
   "outputs": [
    {
     "data": {
      "text/html": [
       "FALSE"
      ],
      "text/latex": [
       "FALSE"
      ],
      "text/markdown": [
       "FALSE"
      ],
      "text/plain": [
       "[1] FALSE"
      ]
     },
     "metadata": {},
     "output_type": "display_data"
    }
   ],
   "source": [
    "1 == 2"
   ]
  },
  {
   "cell_type": "code",
   "execution_count": 76,
   "metadata": {
    "vscode": {
     "languageId": "r"
    }
   },
   "outputs": [
    {
     "data": {
      "text/html": [
       "<table class=\"dataframe\">\n",
       "<caption>A matrix: 5 × 4 of type dbl</caption>\n",
       "<thead>\n",
       "\t<tr><th></th><th scope=col>Rural Male</th><th scope=col>Rural Female</th><th scope=col>Urban Male</th><th scope=col>Urban Female</th></tr>\n",
       "</thead>\n",
       "<tbody>\n",
       "\t<tr><th scope=row>50-54</th><td>11.7</td><td> 8.7</td><td>15.4</td><td> 8.4</td></tr>\n",
       "\t<tr><th scope=row>55-59</th><td>18.1</td><td>11.7</td><td>24.3</td><td>13.6</td></tr>\n",
       "\t<tr><th scope=row>60-64</th><td>26.9</td><td>20.3</td><td>37.0</td><td>19.3</td></tr>\n",
       "\t<tr><th scope=row>65-69</th><td>41.0</td><td>30.9</td><td>54.6</td><td>35.1</td></tr>\n",
       "\t<tr><th scope=row>70-74</th><td>66.0</td><td>54.3</td><td>71.1</td><td>50.0</td></tr>\n",
       "</tbody>\n",
       "</table>\n"
      ],
      "text/latex": [
       "A matrix: 5 × 4 of type dbl\n",
       "\\begin{tabular}{r|llll}\n",
       "  & Rural Male & Rural Female & Urban Male & Urban Female\\\\\n",
       "\\hline\n",
       "\t50-54 & 11.7 &  8.7 & 15.4 &  8.4\\\\\n",
       "\t55-59 & 18.1 & 11.7 & 24.3 & 13.6\\\\\n",
       "\t60-64 & 26.9 & 20.3 & 37.0 & 19.3\\\\\n",
       "\t65-69 & 41.0 & 30.9 & 54.6 & 35.1\\\\\n",
       "\t70-74 & 66.0 & 54.3 & 71.1 & 50.0\\\\\n",
       "\\end{tabular}\n"
      ],
      "text/markdown": [
       "\n",
       "A matrix: 5 × 4 of type dbl\n",
       "\n",
       "| <!--/--> | Rural Male | Rural Female | Urban Male | Urban Female |\n",
       "|---|---|---|---|---|\n",
       "| 50-54 | 11.7 |  8.7 | 15.4 |  8.4 |\n",
       "| 55-59 | 18.1 | 11.7 | 24.3 | 13.6 |\n",
       "| 60-64 | 26.9 | 20.3 | 37.0 | 19.3 |\n",
       "| 65-69 | 41.0 | 30.9 | 54.6 | 35.1 |\n",
       "| 70-74 | 66.0 | 54.3 | 71.1 | 50.0 |\n",
       "\n"
      ],
      "text/plain": [
       "      Rural Male Rural Female Urban Male Urban Female\n",
       "50-54 11.7        8.7         15.4        8.4        \n",
       "55-59 18.1       11.7         24.3       13.6        \n",
       "60-64 26.9       20.3         37.0       19.3        \n",
       "65-69 41.0       30.9         54.6       35.1        \n",
       "70-74 66.0       54.3         71.1       50.0        "
      ]
     },
     "metadata": {},
     "output_type": "display_data"
    }
   ],
   "source": [
    "VADeaths"
   ]
  },
  {
   "cell_type": "code",
   "execution_count": 1,
   "metadata": {
    "vscode": {
     "languageId": "r"
    }
   },
   "outputs": [
    {
     "data": {
      "image/png": "[encoded data removed]",
      "text/plain": [
       "plot without title"
      ]
     },
     "metadata": {
      "image/png": {
       "height": 420,
       "width": 420
      }
     },
     "output_type": "display_data"
    }
   ],
   "source": [
    "barplot(VADeaths)"
   ]
  },
  {
   "cell_type": "code",
   "execution_count": 2,
   "metadata": {
    "vscode": {
     "languageId": "r"
    }
   },
   "outputs": [
    {
     "ename": "ERROR",
     "evalue": "Error in legend(locator(1), rownames(VADeaths)): invalid coordinate lengths\n",
     "output_type": "error",
     "traceback": [
      "Error in legend(locator(1), rownames(VADeaths)): invalid coordinate lengths\nTraceback:\n",
      "1. legend(locator(1), rownames(VADeaths))",
      "2. stop(\"invalid coordinate lengths\")"
     ]
    },
    {
     "data": {
      "image/png": "[encoded data removed]",
      "text/plain": [
       "plot without title"
      ]
     },
     "metadata": {
      "image/png": {
       "height": 420,
       "width": 420
      }
     },
     "output_type": "display_data"
    }
   ],
   "source": [
    "cols = c(\"red\", \"blue\", \"green\", \"yellow\", \"purple\")\n",
    "barplot(VADeaths, beside=TRUE, col=cols)\n",
    "legend(locator(1), rownames(VADeaths))"
   ]
  },
  {
   "cell_type": "code",
   "execution_count": null,
   "metadata": {
    "vscode": {
     "languageId": "r"
    }
   },
   "outputs": [],
   "source": []
  },
  {
   "cell_type": "code",
   "execution_count": null,
   "metadata": {
    "vscode": {
     "languageId": "r"
    }
   },
   "outputs": [],
   "source": []
  }
 ],
 "metadata": {
  "kernelspec": {
   "display_name": "R",
   "language": "R",
   "name": "ir"
  },
  "language_info": {
   "codemirror_mode": "r",
   "file_extension": ".r",
   "mimetype": "text/x-r-source",
   "name": "R",
   "pygments_lexer": "r",
   "version": "4.1.3"
  }
 },
 "nbformat": 4,
 "nbformat_minor": 2
}
